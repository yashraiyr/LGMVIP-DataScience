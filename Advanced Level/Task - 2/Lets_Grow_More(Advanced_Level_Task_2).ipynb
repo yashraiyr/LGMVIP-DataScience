{
  "nbformat": 4,
  "nbformat_minor": 0,
  "metadata": {
    "colab": {
      "name": "Lets_Grow_More(Advanced_Level_Task_2).ipynb",
      "provenance": []
    },
    "kernelspec": {
      "name": "python3",
      "display_name": "Python 3"
    },
    "language_info": {
      "name": "python"
    },
    "accelerator": "GPU"
  },
  "cells": [
    {
      "cell_type": "markdown",
      "source": [
        "LetsGrowMore\n",
        "\n",
        "Advanced Level Task 2: Next Word Prediction\n",
        "\n",
        "Done By: Yash Rai"
      ],
      "metadata": {
        "id": "UPQhXAFSZNsj"
      }
    },
    {
      "cell_type": "code",
      "execution_count": 1,
      "metadata": {
        "id": "c8d7hIoOZNKU"
      },
      "outputs": [],
      "source": [
        "# Importing Libraries\n",
        "import numpy as np\n",
        "from nltk.tokenize import RegexpTokenizer\n",
        "from keras.models import Sequential, load_model\n",
        "from keras.layers import LSTM\n",
        "from keras.layers.core import Dense, Activation\n",
        "from tensorflow.keras.optimizers import RMSprop\n",
        "import matplotlib.pyplot as plt\n",
        "import pickle\n",
        "import heapq"
      ]
    },
    {
      "cell_type": "code",
      "source": [
        "# Loading the Dataset\n",
        "path = '1661-0.txt'\n",
        "text = open(path).read().lower()\n",
        "print('Corpus Length:', len(text))"
      ],
      "metadata": {
        "colab": {
          "base_uri": "https://localhost:8080/"
        },
        "id": "xAe0RJjybdgm",
        "outputId": "0c130b43-79cf-41eb-85a9-a45097c96b0c"
      },
      "execution_count": 2,
      "outputs": [
        {
          "output_type": "stream",
          "name": "stdout",
          "text": [
            "Corpus Length: 581888\n"
          ]
        }
      ]
    },
    {
      "cell_type": "code",
      "source": [
        "# Splitting Dataset into one word each\n",
        "tokenizer = RegexpTokenizer(r'\\w+')\n",
        "words = tokenizer.tokenize(text)"
      ],
      "metadata": {
        "id": "pozWArCxbeNX"
      },
      "execution_count": 3,
      "outputs": []
    },
    {
      "cell_type": "code",
      "source": [
        "# Making list of Sorted Unique Words\n",
        "unique_words = np.unique(words)\n",
        "unique_word_index = dict((c, i) for i, c in enumerate(unique_words))"
      ],
      "metadata": {
        "id": "nsx_SSX4bgTl"
      },
      "execution_count": 4,
      "outputs": []
    },
    {
      "cell_type": "code",
      "source": [
        "# Feature Engineering\n",
        "WORD_LENGTH = 5\n",
        "prev_words = []\n",
        "next_words = []\n",
        "for i in range(len(words) - WORD_LENGTH):\n",
        "    prev_words.append(words[i:i + WORD_LENGTH])\n",
        "    next_words.append(words[i + WORD_LENGTH])\n",
        "print(prev_words[0])\n",
        "print(next_words[0])"
      ],
      "metadata": {
        "colab": {
          "base_uri": "https://localhost:8080/"
        },
        "id": "n3abB0cubiZH",
        "outputId": "8edaf253-7d90-48eb-f01f-482349945138"
      },
      "execution_count": 5,
      "outputs": [
        {
          "output_type": "stream",
          "name": "stdout",
          "text": [
            "['project', 'gutenberg', 's', 'the', 'adventures']\n",
            "of\n"
          ]
        }
      ]
    },
    {
      "cell_type": "code",
      "source": [
        "# Storing Features and Corresponding Labels\n",
        "X = np.zeros((len(prev_words), WORD_LENGTH, len(unique_words)), dtype=bool)\n",
        "Y = np.zeros((len(next_words), len(unique_words)), dtype=bool)\n",
        "for i, each_words in enumerate(prev_words):\n",
        "    for j, each_word in enumerate(each_words):\n",
        "        X[i, j, unique_word_index[each_word]] = 1\n",
        "    Y[i, unique_word_index[next_words[i]]] = 1"
      ],
      "metadata": {
        "id": "AotYxvEsblaP"
      },
      "execution_count": 6,
      "outputs": []
    },
    {
      "cell_type": "code",
      "source": [
        "print(X[0][0])"
      ],
      "metadata": {
        "colab": {
          "base_uri": "https://localhost:8080/"
        },
        "id": "dcYG4WxhbnUN",
        "outputId": "ee0b3beb-0090-42ad-8bb9-a40adef8a09c"
      },
      "execution_count": 7,
      "outputs": [
        {
          "output_type": "stream",
          "name": "stdout",
          "text": [
            "[False False False ... False False False]\n"
          ]
        }
      ]
    },
    {
      "cell_type": "code",
      "source": [
        "# Building the Model\n",
        "model = Sequential()\n",
        "model.add(LSTM(128, input_shape=(WORD_LENGTH, len(unique_words))))\n",
        "model.add(Dense(len(unique_words)))\n",
        "model.add(Activation('softmax'))"
      ],
      "metadata": {
        "id": "WnoaDJ7ebo1S"
      },
      "execution_count": 8,
      "outputs": []
    },
    {
      "cell_type": "code",
      "source": [
        "# Training Our Model\n",
        "optimizer = RMSprop(lr=0.01)\n",
        "model.compile(loss='categorical_crossentropy', optimizer=optimizer, metrics=['accuracy'])\n",
        "history = model.fit(X, Y, validation_split=0.05, batch_size=128, epochs=20, shuffle=True).history"
      ],
      "metadata": {
        "colab": {
          "base_uri": "https://localhost:8080/"
        },
        "id": "DIigEjlnbqfp",
        "outputId": "a60b4591-10e3-4e38-97c7-d804bd62a8a6"
      },
      "execution_count": 9,
      "outputs": [
        {
          "output_type": "stream",
          "name": "stderr",
          "text": [
            "/usr/local/lib/python3.7/dist-packages/keras/optimizer_v2/rmsprop.py:130: UserWarning: The `lr` argument is deprecated, use `learning_rate` instead.\n",
            "  super(RMSprop, self).__init__(name, **kwargs)\n"
          ]
        },
        {
          "output_type": "stream",
          "name": "stdout",
          "text": [
            "Epoch 1/20\n",
            "811/811 [==============================] - 31s 31ms/step - loss: 6.0174 - accuracy: 0.1061 - val_loss: 7.0424 - val_accuracy: 0.0963\n",
            "Epoch 2/20\n",
            "811/811 [==============================] - 23s 29ms/step - loss: 5.7848 - accuracy: 0.1472 - val_loss: 7.8846 - val_accuracy: 0.1060\n",
            "Epoch 3/20\n",
            "811/811 [==============================] - 24s 29ms/step - loss: 5.7437 - accuracy: 0.1751 - val_loss: 7.9526 - val_accuracy: 0.1009\n",
            "Epoch 4/20\n",
            "811/811 [==============================] - 24s 29ms/step - loss: 5.4285 - accuracy: 0.2117 - val_loss: 8.0268 - val_accuracy: 0.1016\n",
            "Epoch 5/20\n",
            "811/811 [==============================] - 24s 29ms/step - loss: 5.0791 - accuracy: 0.2523 - val_loss: 8.6257 - val_accuracy: 0.0954\n",
            "Epoch 6/20\n",
            "811/811 [==============================] - 23s 29ms/step - loss: 4.7324 - accuracy: 0.2934 - val_loss: 8.7282 - val_accuracy: 0.0846\n",
            "Epoch 7/20\n",
            "811/811 [==============================] - 23s 29ms/step - loss: 4.4221 - accuracy: 0.3344 - val_loss: 8.8560 - val_accuracy: 0.0851\n",
            "Epoch 8/20\n",
            "811/811 [==============================] - 23s 29ms/step - loss: 4.1337 - accuracy: 0.3743 - val_loss: 9.2533 - val_accuracy: 0.0765\n",
            "Epoch 9/20\n",
            "811/811 [==============================] - 23s 29ms/step - loss: 3.8777 - accuracy: 0.4098 - val_loss: 9.3184 - val_accuracy: 0.0747\n",
            "Epoch 10/20\n",
            "811/811 [==============================] - 24s 29ms/step - loss: 3.6563 - accuracy: 0.4418 - val_loss: 9.6376 - val_accuracy: 0.0725\n",
            "Epoch 11/20\n",
            "811/811 [==============================] - 23s 29ms/step - loss: 3.4987 - accuracy: 0.4663 - val_loss: 9.5690 - val_accuracy: 0.0716\n",
            "Epoch 12/20\n",
            "811/811 [==============================] - 23s 29ms/step - loss: 3.3665 - accuracy: 0.4919 - val_loss: 9.9252 - val_accuracy: 0.0698\n",
            "Epoch 13/20\n",
            "811/811 [==============================] - 23s 29ms/step - loss: 3.2620 - accuracy: 0.5103 - val_loss: 10.0867 - val_accuracy: 0.0668\n",
            "Epoch 14/20\n",
            "811/811 [==============================] - 23s 29ms/step - loss: 3.1942 - accuracy: 0.5293 - val_loss: 10.0954 - val_accuracy: 0.0661\n",
            "Epoch 15/20\n",
            "811/811 [==============================] - 23s 29ms/step - loss: 3.1549 - accuracy: 0.5420 - val_loss: 10.3143 - val_accuracy: 0.0632\n",
            "Epoch 16/20\n",
            "811/811 [==============================] - 24s 29ms/step - loss: 3.1133 - accuracy: 0.5547 - val_loss: 10.3128 - val_accuracy: 0.0584\n",
            "Epoch 17/20\n",
            "811/811 [==============================] - 23s 29ms/step - loss: 3.0949 - accuracy: 0.5656 - val_loss: 10.3564 - val_accuracy: 0.0635\n",
            "Epoch 18/20\n",
            "811/811 [==============================] - 23s 29ms/step - loss: 3.0814 - accuracy: 0.5761 - val_loss: 10.4131 - val_accuracy: 0.0606\n",
            "Epoch 19/20\n",
            "811/811 [==============================] - 23s 29ms/step - loss: 3.0512 - accuracy: 0.5859 - val_loss: 10.4889 - val_accuracy: 0.0619\n",
            "Epoch 20/20\n",
            "811/811 [==============================] - 23s 29ms/step - loss: 2.9971 - accuracy: 0.5950 - val_loss: 10.7935 - val_accuracy: 0.0579\n"
          ]
        }
      ]
    },
    {
      "cell_type": "code",
      "source": [
        "# Loading Our Model\n",
        "model.save('keras_next_word_model.h5')\n",
        "pickle.dump(history, open(\"history.p\", \"wb\"))\n",
        "model = load_model('keras_next_word_model.h5')\n",
        "history = pickle.load(open(\"history.p\", \"rb\"))"
      ],
      "metadata": {
        "id": "JOvulqD7byH_"
      },
      "execution_count": 10,
      "outputs": []
    },
    {
      "cell_type": "code",
      "source": [
        "# Making Predictions\n",
        "def prepare_input(text):\n",
        "    x = np.zeros((1, WORD_LENGTH, len(unique_words)))\n",
        "    for t, word in enumerate(text.split()):\n",
        "        print(word)\n",
        "        x[0, t, unique_word_index[word]] = 1\n",
        "    return x\n",
        "prepare_input(\"How are you \".lower())"
      ],
      "metadata": {
        "colab": {
          "base_uri": "https://localhost:8080/"
        },
        "id": "4JtiPAd3b0jU",
        "outputId": "ce6194dc-9d00-46c7-c19d-62792c14f201"
      },
      "execution_count": 11,
      "outputs": [
        {
          "output_type": "stream",
          "name": "stdout",
          "text": [
            "how\n",
            "are\n",
            "you\n"
          ]
        },
        {
          "output_type": "execute_result",
          "data": {
            "text/plain": [
              "array([[[0., 0., 0., ..., 0., 0., 0.],\n",
              "        [0., 0., 0., ..., 0., 0., 0.],\n",
              "        [0., 0., 0., ..., 0., 0., 0.],\n",
              "        [0., 0., 0., ..., 0., 0., 0.],\n",
              "        [0., 0., 0., ..., 0., 0., 0.]]])"
            ]
          },
          "metadata": {},
          "execution_count": 11
        }
      ]
    },
    {
      "cell_type": "code",
      "source": [
        "def sample(preds, top_n=3):\n",
        "    preds = np.asarray(preds).astype('float64')\n",
        "    preds = np.log(preds)\n",
        "    exp_preds = np.exp(preds)\n",
        "    preds = exp_preds / np.sum(exp_preds)\n",
        "    return heapq.nlargest(top_n, range(len(preds)), preds.take)"
      ],
      "metadata": {
        "id": "mVtt8ZDdb2BB"
      },
      "execution_count": 12,
      "outputs": []
    },
    {
      "cell_type": "code",
      "source": [
        "# Function for Prediction\n",
        "def predict_completions(text, n=3):\n",
        "    if text == \"\":\n",
        "        return(\"0\")\n",
        "    x = prepare_input(text)\n",
        "    preds = model.predict(x, verbose=0)[0]\n",
        "    next_indices = sample(preds, n)\n",
        "    return [unique_words[idx] for idx in next_indices]"
      ],
      "metadata": {
        "id": "RQHa32Nzb4eT"
      },
      "execution_count": 13,
      "outputs": []
    },
    {
      "cell_type": "code",
      "source": [
        "s =  \"This is an advanced level task\"\n",
        "print(\"Sentence: \",s)\n",
        "seq = \" \".join(tokenizer.tokenize(s.lower())[0:3])\n",
        "print(\"Sequence: \",seq)\n",
        "print(\"Next Possible Words: \", predict_completions(seq, 3))"
      ],
      "metadata": {
        "colab": {
          "base_uri": "https://localhost:8080/"
        },
        "id": "99HPazXWb57E",
        "outputId": "9738dc96-e651-410b-dbd3-8878283a8f0c"
      },
      "execution_count": 14,
      "outputs": [
        {
          "output_type": "stream",
          "name": "stdout",
          "text": [
            "Sentence:  This is an advanced level task\n",
            "Sequence:  this is an\n",
            "this\n",
            "is\n",
            "an\n",
            "Next Possible Words:  ['open', 'answered', 'only']\n"
          ]
        }
      ]
    }
  ]
}